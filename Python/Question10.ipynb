{
 "cells": [
  {
   "cell_type": "code",
   "execution_count": 1,
   "metadata": {},
   "outputs": [],
   "source": [
    "import re\n",
    "\n",
    "def partsofspeech_counter(text):\n",
    "    #regular expressions for matching different parts of speech\n",
    "    nouns = re.compile(r'\\b[A-Za-z]+[s]?\\b', re.IGNORECASE)\n",
    "    pronouns = re.compile(r'\\b(I|me|my|mine|you|your|yours|he|him|his|she|her|hers|it|its|we|us|our|ours|they|them|their|theirs)\\b', re.IGNORECASE)\n",
    "    verbs= re.compile(r'\\b[A-Za-z]+(?:s|ed|ing)?\\b', re.IGNORECASE)\n",
    "    adjectives = re.compile(r'\\b[A-Za-z]+\\b', re.IGNORECASE)\n",
    "\n",
    "    #Initial count\n",
    "    ans = {\n",
    "        'nouns': 0,\n",
    "        'pronouns': 0,\n",
    "        'verbs': 0,\n",
    "        'adjectives': 0\n",
    "    }\n",
    "\n",
    "    # findingmatches for each part of speech\n",
    "    ans['nouns'] = len(re.findall(nouns, text))\n",
    "    ans['pronouns'] = len(re.findall(pronouns, text))\n",
    "    ans['verbs'] = len(re.findall(verbs, text))\n",
    "    ans['adjectives'] = len(re.findall(adjectives, text))\n",
    "\n",
    "    return ans\n"
   ]
  },
  {
   "cell_type": "code",
   "execution_count": 2,
   "metadata": {},
   "outputs": [
    {
     "data": {
      "text/plain": [
       "{'nouns': 6, 'pronouns': 0, 'verbs': 6, 'adjectives': 6}"
      ]
     },
     "execution_count": 2,
     "metadata": {},
     "output_type": "execute_result"
    }
   ],
   "source": [
    "text = \"The big, red apple is delicious.\"\n",
    "partsofspeech_counter(text)\n",
    "#expected_output = {'nouns': 2, 'pronouns': 0, 'verbs': 0, 'adjectives': 2}\n"
   ]
  },
  {
   "cell_type": "code",
   "execution_count": null,
   "metadata": {},
   "outputs": [],
   "source": []
  }
 ],
 "metadata": {
  "kernelspec": {
   "display_name": "base",
   "language": "python",
   "name": "python3"
  },
  "language_info": {
   "codemirror_mode": {
    "name": "ipython",
    "version": 3
   },
   "file_extension": ".py",
   "mimetype": "text/x-python",
   "name": "python",
   "nbconvert_exporter": "python",
   "pygments_lexer": "ipython3",
   "version": "3.9.13"
  },
  "orig_nbformat": 4
 },
 "nbformat": 4,
 "nbformat_minor": 2
}
