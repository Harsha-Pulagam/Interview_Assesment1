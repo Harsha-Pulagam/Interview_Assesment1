{
 "cells": [
  {
   "cell_type": "code",
   "execution_count": 4,
   "metadata": {},
   "outputs": [],
   "source": [
    "import pandas as pd\n",
    "import seaborn as sns \n"
   ]
  },
  {
   "cell_type": "code",
   "execution_count": 2,
   "metadata": {},
   "outputs": [],
   "source": [
    "df=pd.read_csv(\"episodes.csv\")"
   ]
  },
  {
   "cell_type": "code",
   "execution_count": 3,
   "metadata": {},
   "outputs": [
    {
     "name": "stdout",
     "output_type": "stream",
     "text": [
      "<class 'pandas.core.frame.DataFrame'>\n",
      "RangeIndex: 36 entries, 0 to 35\n",
      "Data columns (total 13 columns):\n",
      " #   Column    Non-Null Count  Dtype  \n",
      "---  ------    --------------  -----  \n",
      " 0   id        36 non-null     int64  \n",
      " 1   url       36 non-null     object \n",
      " 2   name      36 non-null     object \n",
      " 3   season    36 non-null     int64  \n",
      " 4   number    36 non-null     int64  \n",
      " 5   type      36 non-null     object \n",
      " 6   airdate   36 non-null     object \n",
      " 7   airtime   36 non-null     object \n",
      " 8   runtime   36 non-null     int64  \n",
      " 9   rating    36 non-null     float64\n",
      " 10  summary   36 non-null     object \n",
      " 11  medium    36 non-null     object \n",
      " 12  original  36 non-null     object \n",
      "dtypes: float64(1), int64(4), object(8)\n",
      "memory usage: 3.8+ KB\n"
     ]
    }
   ],
   "source": [
    "df.info()"
   ]
  },
  {
   "cell_type": "code",
   "execution_count": 8,
   "metadata": {},
   "outputs": [
    {
     "data": {
      "text/plain": [
       "<AxesSubplot:>"
      ]
     },
     "execution_count": 8,
     "metadata": {},
     "output_type": "execute_result"
    },
    {
     "data": {
      "image/png": "[encoded data removed]",
      "text/plain": [
       "<Figure size 640x480 with 1 Axes>"
      ]
     },
     "metadata": {},
     "output_type": "display_data"
    }
   ],
   "source": [
    "s1 = df[df['season'] == 1]\n",
    "s2 = df[df['season'] == 2]\n",
    "s3 = df[df['season'] == 3]\n",
    "s4 = df[df['season'] == 4]\n",
    "s1_ratings = sum(s1['rating'])/len(s1)\n",
    "s2_ratings = sum(s2['rating'])/len(s2)\n",
    "s3_ratings = sum(s3['rating'])/len(s3)\n",
    "s4_ratings = sum(s4['rating'])/len(s4)\n",
    "season_rating = [s1_ratings, s2_ratings, s3_ratings, s4_ratings]\n",
    "season_name = [ 'Season 1', 'Season 2', 'Season 3', 'Season 4']\n",
    "sns.barplot(data = df, x=season_name, y=season_rating, )"
   ]
  },
  {
   "cell_type": "code",
   "execution_count": 9,
   "metadata": {},
   "outputs": [
    {
     "data": {
      "text/html": [
       "<div>\n",
       "<style scoped>\n",
       "    .dataframe tbody tr th:only-of-type {\n",
       "        vertical-align: middle;\n",
       "    }\n",
       "\n",
       "    .dataframe tbody tr th {\n",
       "        vertical-align: top;\n",
       "    }\n",
       "\n",
       "    .dataframe thead th {\n",
       "        text-align: right;\n",
       "    }\n",
       "</style>\n",
       "<table border=\"1\" class=\"dataframe\">\n",
       "  <thead>\n",
       "    <tr style=\"text-align: right;\">\n",
       "      <th></th>\n",
       "      <th>name</th>\n",
       "      <th>rating</th>\n",
       "    </tr>\n",
       "  </thead>\n",
       "  <tbody>\n",
       "    <tr>\n",
       "      <th>6</th>\n",
       "      <td>Trompe L'Oeil</td>\n",
       "      <td>8.6</td>\n",
       "    </tr>\n",
       "    <tr>\n",
       "      <th>8</th>\n",
       "      <td>The Well-Tempered Clavier</td>\n",
       "      <td>8.5</td>\n",
       "    </tr>\n",
       "    <tr>\n",
       "      <th>9</th>\n",
       "      <td>The Bicameral Mind</td>\n",
       "      <td>8.7</td>\n",
       "    </tr>\n",
       "    <tr>\n",
       "      <th>17</th>\n",
       "      <td>Kiksuya</td>\n",
       "      <td>8.7</td>\n",
       "    </tr>\n",
       "    <tr>\n",
       "      <th>18</th>\n",
       "      <td>Vanishing Point</td>\n",
       "      <td>8.4</td>\n",
       "    </tr>\n",
       "    <tr>\n",
       "      <th>19</th>\n",
       "      <td>The Passenger</td>\n",
       "      <td>8.5</td>\n",
       "    </tr>\n",
       "  </tbody>\n",
       "</table>\n",
       "</div>"
      ],
      "text/plain": [
       "                         name  rating\n",
       "6               Trompe L'Oeil     8.6\n",
       "8   The Well-Tempered Clavier     8.5\n",
       "9          The Bicameral Mind     8.7\n",
       "17                    Kiksuya     8.7\n",
       "18            Vanishing Point     8.4\n",
       "19              The Passenger     8.5"
      ]
     },
     "execution_count": 9,
     "metadata": {},
     "output_type": "execute_result"
    }
   ],
   "source": [
    "df[df['rating'] > 8][['name', 'rating']]"
   ]
  },
  {
   "cell_type": "code",
   "execution_count": 10,
   "metadata": {},
   "outputs": [],
   "source": [
    "df['airdate'] = pd.to_datetime(df['airdate'])"
   ]
  },
  {
   "cell_type": "code",
   "execution_count": 12,
   "metadata": {},
   "outputs": [],
   "source": [
    "df_befordate = df[df['airdate'] <= '2019-05']"
   ]
  },
  {
   "cell_type": "code",
   "execution_count": 13,
   "metadata": {},
   "outputs": [
    {
     "data": {
      "text/html": [
       "<div>\n",
       "<style scoped>\n",
       "    .dataframe tbody tr th:only-of-type {\n",
       "        vertical-align: middle;\n",
       "    }\n",
       "\n",
       "    .dataframe tbody tr th {\n",
       "        vertical-align: top;\n",
       "    }\n",
       "\n",
       "    .dataframe thead th {\n",
       "        text-align: right;\n",
       "    }\n",
       "</style>\n",
       "<table border=\"1\" class=\"dataframe\">\n",
       "  <thead>\n",
       "    <tr style=\"text-align: right;\">\n",
       "      <th></th>\n",
       "      <th>name</th>\n",
       "      <th>airdate</th>\n",
       "    </tr>\n",
       "  </thead>\n",
       "  <tbody>\n",
       "    <tr>\n",
       "      <th>0</th>\n",
       "      <td>The Original</td>\n",
       "      <td>2016-10-02</td>\n",
       "    </tr>\n",
       "    <tr>\n",
       "      <th>1</th>\n",
       "      <td>Chestnut</td>\n",
       "      <td>2016-10-09</td>\n",
       "    </tr>\n",
       "    <tr>\n",
       "      <th>2</th>\n",
       "      <td>The Stray</td>\n",
       "      <td>2016-10-16</td>\n",
       "    </tr>\n",
       "    <tr>\n",
       "      <th>3</th>\n",
       "      <td>Dissonance Theory</td>\n",
       "      <td>2016-10-23</td>\n",
       "    </tr>\n",
       "    <tr>\n",
       "      <th>4</th>\n",
       "      <td>Contrapasso</td>\n",
       "      <td>2016-10-30</td>\n",
       "    </tr>\n",
       "    <tr>\n",
       "      <th>5</th>\n",
       "      <td>The Adversary</td>\n",
       "      <td>2016-11-06</td>\n",
       "    </tr>\n",
       "    <tr>\n",
       "      <th>6</th>\n",
       "      <td>Trompe L'Oeil</td>\n",
       "      <td>2016-11-13</td>\n",
       "    </tr>\n",
       "    <tr>\n",
       "      <th>7</th>\n",
       "      <td>Trace Decay</td>\n",
       "      <td>2016-11-20</td>\n",
       "    </tr>\n",
       "    <tr>\n",
       "      <th>8</th>\n",
       "      <td>The Well-Tempered Clavier</td>\n",
       "      <td>2016-11-27</td>\n",
       "    </tr>\n",
       "    <tr>\n",
       "      <th>9</th>\n",
       "      <td>The Bicameral Mind</td>\n",
       "      <td>2016-12-04</td>\n",
       "    </tr>\n",
       "    <tr>\n",
       "      <th>10</th>\n",
       "      <td>Journey Into Night</td>\n",
       "      <td>2018-04-22</td>\n",
       "    </tr>\n",
       "    <tr>\n",
       "      <th>11</th>\n",
       "      <td>Reunion</td>\n",
       "      <td>2018-04-29</td>\n",
       "    </tr>\n",
       "    <tr>\n",
       "      <th>12</th>\n",
       "      <td>Virtù e Fortuna</td>\n",
       "      <td>2018-05-06</td>\n",
       "    </tr>\n",
       "    <tr>\n",
       "      <th>13</th>\n",
       "      <td>The Riddle of the Sphinx</td>\n",
       "      <td>2018-05-13</td>\n",
       "    </tr>\n",
       "    <tr>\n",
       "      <th>14</th>\n",
       "      <td>Akane No Mai</td>\n",
       "      <td>2018-05-20</td>\n",
       "    </tr>\n",
       "    <tr>\n",
       "      <th>15</th>\n",
       "      <td>Phase Space</td>\n",
       "      <td>2018-05-27</td>\n",
       "    </tr>\n",
       "    <tr>\n",
       "      <th>16</th>\n",
       "      <td>Les Écorchés</td>\n",
       "      <td>2018-06-03</td>\n",
       "    </tr>\n",
       "    <tr>\n",
       "      <th>17</th>\n",
       "      <td>Kiksuya</td>\n",
       "      <td>2018-06-10</td>\n",
       "    </tr>\n",
       "    <tr>\n",
       "      <th>18</th>\n",
       "      <td>Vanishing Point</td>\n",
       "      <td>2018-06-17</td>\n",
       "    </tr>\n",
       "    <tr>\n",
       "      <th>19</th>\n",
       "      <td>The Passenger</td>\n",
       "      <td>2018-06-24</td>\n",
       "    </tr>\n",
       "  </tbody>\n",
       "</table>\n",
       "</div>"
      ],
      "text/plain": [
       "                         name    airdate\n",
       "0                The Original 2016-10-02\n",
       "1                    Chestnut 2016-10-09\n",
       "2                   The Stray 2016-10-16\n",
       "3           Dissonance Theory 2016-10-23\n",
       "4                 Contrapasso 2016-10-30\n",
       "5               The Adversary 2016-11-06\n",
       "6               Trompe L'Oeil 2016-11-13\n",
       "7                 Trace Decay 2016-11-20\n",
       "8   The Well-Tempered Clavier 2016-11-27\n",
       "9          The Bicameral Mind 2016-12-04\n",
       "10         Journey Into Night 2018-04-22\n",
       "11                    Reunion 2018-04-29\n",
       "12            Virtù e Fortuna 2018-05-06\n",
       "13   The Riddle of the Sphinx 2018-05-13\n",
       "14               Akane No Mai 2018-05-20\n",
       "15                Phase Space 2018-05-27\n",
       "16               Les Écorchés 2018-06-03\n",
       "17                    Kiksuya 2018-06-10\n",
       "18            Vanishing Point 2018-06-17\n",
       "19              The Passenger 2018-06-24"
      ]
     },
     "execution_count": 13,
     "metadata": {},
     "output_type": "execute_result"
    }
   ],
   "source": [
    "df_befordate[['name','airdate']]"
   ]
  },
  {
   "cell_type": "code",
   "execution_count": 27,
   "metadata": {},
   "outputs": [],
   "source": [
    "minrating = df.groupby('season')['rating'].min()\n",
    "maxrating= df.groupby('season')['rating'].max()\n",
    "def ratingfun(l1):\n",
    "    for season, rating in l1.items():\n",
    "        print(season, rating)\n",
    "        episodes = list(df[(df['season'] == int(season)) & (df['rating'] == rating)]['name'])\n",
    "        print(f\"Episodes for season {season}: \", episodes)\n",
    "        "
   ]
  },
  {
   "cell_type": "code",
   "execution_count": 29,
   "metadata": {},
   "outputs": [
    {
     "name": "stdout",
     "output_type": "stream",
     "text": [
      "1 7.6\n",
      "Episodes for season 1:  ['The Stray']\n",
      "2 7.6\n",
      "Episodes for season 2:  ['Akane No Mai']\n",
      "3 7.5\n",
      "Episodes for season 3:  ['Decoherence', 'Passed Pawn']\n",
      "4 7.1\n",
      "Episodes for season 4:  ['The Auguries']\n"
     ]
    }
   ],
   "source": [
    "ratingfun(minrating)"
   ]
  },
  {
   "cell_type": "code",
   "execution_count": 30,
   "metadata": {},
   "outputs": [
    {
     "name": "stdout",
     "output_type": "stream",
     "text": [
      "1 8.7\n",
      "Episodes for season 1:  ['The Bicameral Mind']\n",
      "2 8.7\n",
      "Episodes for season 2:  ['Kiksuya']\n",
      "3 8.0\n",
      "Episodes for season 3:  ['Parce Domine', 'The Mother of Exiles']\n",
      "4 7.8\n",
      "Episodes for season 4:  ['Zhuangzi']\n"
     ]
    }
   ],
   "source": [
    "ratingfun(maxrating)"
   ]
  },
  {
   "cell_type": "code",
   "execution_count": 17,
   "metadata": {},
   "outputs": [
    {
     "name": "stdout",
     "output_type": "stream",
     "text": [
      "Season: 1, Highest rating: 8.7\n",
      "The Bicameral Mind:\n",
      "9    Delores finds out the truth about William's fa...\n",
      "Name: summary, dtype: object\n",
      "Season: 2, Highest rating: 8.7\n",
      "Kiksuya:\n",
      "17    Another of Westworld's Host revolutionaries is...\n",
      "Name: summary, dtype: object\n",
      "Season: 3, Highest rating: 8.0\n",
      "Parce Domine:\n",
      "20    If you're stuck in a loop, try walking in a st...\n",
      "Name: summary, dtype: object\n",
      "Season: 3, Highest rating: 8.0\n",
      "The Mother of Exiles:\n",
      "23    The truth doesn't always set you free.\n",
      "Name: summary, dtype: object\n",
      "Season: 4, Highest rating: 7.8\n",
      "Zhuangzi:\n",
      "32    God is bored.\n",
      "Name: summary, dtype: object\n"
     ]
    }
   ],
   "source": [
    "hrper_season = df.groupby('season')['rating'].max()\n",
    "episodes_with_high_rat_for_season = []\n",
    "def summary_of_high_rating(high_rating_per_season):\n",
    "    for season, rating in high_rating_per_season.items():\n",
    "        # print(season, rating)\n",
    "        episodes = list(df[(df['season'] == int(season)) & (df['rating'] == rating)]['name'])\n",
    "        for i in episodes:\n",
    "            print(f\"Season: {season}, Highest rating: {rating}\")\n",
    "            print(f'{i}:')\n",
    "            print( df[df['name'] == i]['summary'])\n",
    "\n",
    "summary_of_high_rating(hrper_season)\n"
   ]
  },
  {
   "cell_type": "code",
   "execution_count": null,
   "metadata": {},
   "outputs": [],
   "source": []
  }
 ],
 "metadata": {
  "kernelspec": {
   "display_name": "base",
   "language": "python",
   "name": "python3"
  },
  "language_info": {
   "codemirror_mode": {
    "name": "ipython",
    "version": 3
   },
   "file_extension": ".py",
   "mimetype": "text/x-python",
   "name": "python",
   "nbconvert_exporter": "python",
   "pygments_lexer": "ipython3",
   "version": "3.9.13"
  },
  "orig_nbformat": 4
 },
 "nbformat": 4,
 "nbformat_minor": 2
}
