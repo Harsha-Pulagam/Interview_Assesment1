{
 "cells": [
  {
   "cell_type": "code",
   "execution_count": 1,
   "metadata": {},
   "outputs": [],
   "source": [
    "def word_feq_counter(string):\n",
    "    words = set(string.split())\n",
    "    word = \"\"\n",
    "    count =0\n",
    "    max_count =0\n",
    "    for x in words:\n",
    "        count = string.split().count(x)\n",
    "        if count>max_count:\n",
    "            max_count = count\n",
    "            word = x\n",
    "        elif count == max_count:\n",
    "            if len(x)>len(word):\n",
    "                word = x\n",
    "            \n",
    "    return len(word)\n",
    "    "
   ]
  },
  {
   "cell_type": "code",
   "execution_count": 2,
   "metadata": {},
   "outputs": [
    {
     "data": {
      "text/plain": [
       "2"
      ]
     },
     "execution_count": 2,
     "metadata": {},
     "output_type": "execute_result"
    }
   ],
   "source": [
    "string = \"write write write all is is is is is is the number fromis fromis fromis  1 to 100\"\n",
    "word_feq_counter(string)"
   ]
  },
  {
   "cell_type": "code",
   "execution_count": 3,
   "metadata": {},
   "outputs": [
    {
     "data": {
      "text/plain": [
       "3"
      ]
     },
     "execution_count": 3,
     "metadata": {},
     "output_type": "execute_result"
    }
   ],
   "source": [
    "string=\"aa the is the rep rep rep\"\n",
    "word_feq_counter(string)\n"
   ]
  },
  {
   "cell_type": "code",
   "execution_count": null,
   "metadata": {},
   "outputs": [],
   "source": []
  }
 ],
 "metadata": {
  "kernelspec": {
   "display_name": "base",
   "language": "python",
   "name": "python3"
  },
  "language_info": {
   "codemirror_mode": {
    "name": "ipython",
    "version": 3
   },
   "file_extension": ".py",
   "mimetype": "text/x-python",
   "name": "python",
   "nbconvert_exporter": "python",
   "pygments_lexer": "ipython3",
   "version": "3.9.13"
  },
  "orig_nbformat": 4
 },
 "nbformat": 4,
 "nbformat_minor": 2
}
