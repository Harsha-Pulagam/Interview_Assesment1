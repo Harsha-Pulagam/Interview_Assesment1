{
 "cells": [
  {
   "attachments": {},
   "cell_type": "markdown",
   "metadata": {},
   "source": [
    "Q1.A university wants to understand the relationship between the SAT scores of its applicants and their college GPA. They collect data on 500 students, including their SAT scores (out of 1600) and their college GPA (on a 4.0 scale). They find that the correlation coefficient between SAT scores and college GPA is 0.7. What does this correlation coefficient indicate about the relationship between SAT scores and college GPA?\n",
    "\n",
    "Ans:\n",
    "\n",
    "As we can see, our dataset has two features. SAT scores and college GPA are the two examples. SAT scores and college GPA have a 0.7 correlation.The range of potential values when calculating the association between SAT scores and college GPA is from -1 to 1. We may say that there is a positive link between SAT scores and college GPA if the number is closer to 1. We can claim that there is a negative connection between SAT scores if the value is closer to -1. If the number is zero, there is no relationship between SAT scores and college GPA.link coefficient value in this case is 0.7, indicating a favourable link between SAT results and college GPA. It indicates that it is more likely that we will have excellent SAT Scores if we have a high GPA."
   ]
  },
  {
   "attachments": {},
   "cell_type": "markdown",
   "metadata": {},
   "source": [
    "Q2.Consider a dataset containing the heights (in centimeters) of 1000 individuals. The\n",
    "mean height is 170 cm with a standard deviation of 10 cm. The dataset is approximately\n",
    "normally distributed, and its skewness is approximately zero. Based on this information,\n",
    "answer the following questions:\n",
    "\n",
    "a. What percentage of individuals in the dataset have heights between 160 cm\n",
    "and 180 cm?\n",
    "\n",
    "b. If we randomly select 100 individuals from the dataset, what is the probability\n",
    "that their average height is greater than 175 cm?\n",
    "\n",
    "c. Assuming the dataset follows a normal distribution, what is the z-score\n",
    "corresponding to a height of 185 cm?\n",
    "\n",
    "d. We know that 5% of the dataset has heights below a certain value. What is\n",
    "the approximate height corresponding to this threshold?\n",
    "\n",
    "e. Calculate the coefficient of variation (CV) for the dataset.\n",
    "\n",
    "f. Calculate the skewness of the dataset and interpret the result."
   ]
  },
  {
   "attachments": {},
   "cell_type": "markdown",
   "metadata": {},
   "source": [
    "According to the empirical rule, a statistical principle, for a normal distribution, 68% of the data will be within one standard deviation of the mean, 95% will be within two standard deviations of the mean, and 99.7% will be within three standard deviations of the mean. This rule is also known as the three-sigma rule or the 68-95-99.7 rule."
   ]
  },
  {
   "attachments": {},
   "cell_type": "markdown",
   "metadata": {},
   "source": [
    "a.This is merely our first standard deviation, and 68 percent of people will have heights between 160 cm and 180 cm according to the empirical rule for a normal distribution."
   ]
  },
  {
   "cell_type": "code",
   "execution_count": null,
   "metadata": {},
   "outputs": [],
   "source": [
    "#b\n",
    "import math \n",
    "z_score = (175 - 170) / (10/math.sqrt(100))\n",
    "print(z_score)"
   ]
  },
  {
   "attachments": {},
   "cell_type": "markdown",
   "metadata": {},
   "source": [
    "Q4. A group of 20 friends decide to play a game in which they each write a number\n",
    "between 1 and 20 on a slip of paper and put it into a hat. They then draw one slip of paper\n",
    "at random. What is the probability that the number on the slip of paper is a perfect square\n",
    "(i.e., 1, 4, 9, or 16)?"
   ]
  },
  {
   "cell_type": "code",
   "execution_count": null,
   "metadata": {},
   "outputs": [],
   "source": [
    "def probability(event, samplesize):\n",
    "    return round(event / samplesize,2)"
   ]
  },
  {
   "cell_type": "code",
   "execution_count": 49,
   "metadata": {},
   "outputs": [
    {
     "data": {
      "text/plain": [
       "0.2"
      ]
     },
     "execution_count": 49,
     "metadata": {},
     "output_type": "execute_result"
    }
   ],
   "source": [
    "sample_size = 20\n",
    "event = 4\n",
    "\n",
    "probability(4,20)"
   ]
  },
  {
   "cell_type": "code",
   "execution_count": 50,
   "metadata": {},
   "outputs": [
    {
     "data": {
      "text/plain": [
       "20.0"
      ]
     },
     "execution_count": 50,
     "metadata": {},
     "output_type": "execute_result"
    }
   ],
   "source": [
    "#in percentage \n",
    "probability(4,20) * 100"
   ]
  },
  {
   "attachments": {},
   "cell_type": "markdown",
   "metadata": {},
   "source": [
    "Q5. A certain city has two taxi companies: Company A has 80% of the taxis and\n",
    "Company B has 20% of the taxis. Company A's taxis have a 95% success rate for picking\n",
    "up passengers on time, while Company B's taxis have a 90% success rate. If a randomly\n",
    "selected taxi is late, what is the probability that it belongs to Company A?"
   ]
  },
  {
   "cell_type": "code",
   "execution_count": 24,
   "metadata": {},
   "outputs": [],
   "source": [
    "def probability(event, samplesize):\n",
    "    return round(event / samplesize,2)"
   ]
  },
  {
   "cell_type": "code",
   "execution_count": 33,
   "metadata": {},
   "outputs": [],
   "source": [
    "#Given \n",
    "A_probability = 0.8\n",
    "B_probaility = 0.2\n",
    "\n",
    "A_success_probability = 0.95\n",
    "B_success_probability = 0.90"
   ]
  },
  {
   "cell_type": "code",
   "execution_count": 45,
   "metadata": {},
   "outputs": [],
   "source": [
    "#calculating failure probability\n",
    "A_late_probabilty = round(1 - A_success_probability,2)\n",
    "B_late_probabilty = round(1 - B_success_probability,2)"
   ]
  },
  {
   "cell_type": "code",
   "execution_count": 46,
   "metadata": {},
   "outputs": [
    {
     "data": {
      "text/plain": [
       "0.06"
      ]
     },
     "execution_count": 46,
     "metadata": {},
     "output_type": "execute_result"
    }
   ],
   "source": [
    "#probability of failure\n",
    "P_late = round((A_probability * A_late_probabilty) + (B_probaility * B_late_probabilty),2)\n",
    "P_late"
   ]
  },
  {
   "cell_type": "code",
   "execution_count": 48,
   "metadata": {},
   "outputs": [
    {
     "data": {
      "text/plain": [
       "0.67"
      ]
     },
     "execution_count": 48,
     "metadata": {},
     "output_type": "execute_result"
    }
   ],
   "source": [
    "#probability of late taxi that belongs to A\n",
    "round((A_probability * A_late_probabilty) / P_late,2)"
   ]
  },
  {
   "cell_type": "code",
   "execution_count": null,
   "metadata": {},
   "outputs": [],
   "source": []
  }
 ],
 "metadata": {
  "kernelspec": {
   "display_name": "Python 3 (ipykernel)",
   "language": "python",
   "name": "python3"
  },
  "language_info": {
   "codemirror_mode": {
    "name": "ipython",
    "version": 3
   },
   "file_extension": ".py",
   "mimetype": "text/x-python",
   "name": "python",
   "nbconvert_exporter": "python",
   "pygments_lexer": "ipython3",
   "version": "3.9.13"
  }
 },
 "nbformat": 4,
 "nbformat_minor": 2
}
